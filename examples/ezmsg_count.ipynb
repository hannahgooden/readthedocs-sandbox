{
 "cells": [
  {
   "cell_type": "markdown",
   "metadata": {},
   "source": [
    "## Ezmsg Introduction\n",
    "\n",
    "If this is your first time using `ezmsg`, you're in the right place. This notebook will walk through the basics of creating a very simple `ezmsg` system.\n",
    "\n",
    "`ezmsg` is ideal for creating modular processing pipelines whose steps can be arranged as a directed acyclic graph. In this notebook, we will walk through a very simple graph which generates a count of numbers, adds 1 to each number, and prints to standard output.\n",
    "\n",
    "# ![simple graph](simple-graph.png)\n",
    "\n",
    "In `ezmsg` syntax, this graph would look like this:\n",
    "\n",
    "# ![ezmsg graph](ezmsg-graph.png)\n",
    "\n",
    "We will write an `ezmsg` `Unit` for each discrete step of our pipeline, and connect them together with a `System`."
   ]
  },
  {
   "cell_type": "code",
   "execution_count": 70,
   "metadata": {},
   "outputs": [],
   "source": [
    "import ezmsg.core as ez\n",
    "from typing import AsyncGenerator"
   ]
  },
  {
   "cell_type": "markdown",
   "metadata": {},
   "source": [
    "Create a message type to pass between the `Units`. The message type should inherit from `Message`."
   ]
  },
  {
   "cell_type": "code",
   "execution_count": 71,
   "metadata": {},
   "outputs": [],
   "source": [
    "class CountMessage(ez.Message):\n",
    "    value: int"
   ]
  },
  {
   "cell_type": "markdown",
   "metadata": {},
   "source": [
    "We also need a way to tell the `Unit` how many numbers to generate."
   ]
  },
  {
   "cell_type": "code",
   "execution_count": 72,
   "metadata": {},
   "outputs": [],
   "source": [
    "class CountSettings(ez.Settings):\n",
    "   iterations: int"
   ]
  },
  {
   "cell_type": "markdown",
   "metadata": {},
   "source": [
    "Next, create a `Unit` that will generate a count. Every `Unit` should contain inputs and/or outputs and at least one function which subscribes to the inputs or publishes to the outputs.\n",
    "\n",
    "For `Count`, we create an `OutputStream` and a publishing function which will perform the number calculation and yield `CountMessages` to the `OutputStream`."
   ]
  },
  {
   "cell_type": "code",
   "execution_count": 73,
   "metadata": {},
   "outputs": [],
   "source": [
    "class Count(ez.Unit):\n",
    "\n",
    "    SETTINGS: CountSettings\n",
    "\n",
    "    OUTPUT_COUNT = ez.OutputStream(CountMessage)\n",
    "\n",
    "    @ez.publisher(OUTPUT_COUNT)\n",
    "    async def count(self) -> AsyncGenerator:\n",
    "        count = 0\n",
    "        while count < self.SETTINGS.iterations:\n",
    "            yield (self.OUTPUT_COUNT, CountMessage(\n",
    "                value=count\n",
    "            ))\n",
    "            count = count + 1\n",
    "\n",
    "        raise ez.NormalTermination"
   ]
  },
  {
   "cell_type": "markdown",
   "metadata": {},
   "source": [
    "The `ez.NormalTermination` exception lets the system know that no further messages will be sent from the `Count` unit. The system will gracefully shut down once all messages have been passed through.\n",
    "\n",
    "The next `Unit` in the chain should accept a `CountMessage` from the first `Unit`, add 1 to its value, and yield a new CountMessage. To do this, we create a new `Unit` which contains a function which both subscribes and publishes. We will connect this `Unit` to `Count` later on, when we create a `System`.\n",
    "\n",
    "The subscribing function will be called anytime the `Unit` receives a message to the `InputStream` that the function subscribes to. In this case, `INPUT_COUNT`."
   ]
  },
  {
   "cell_type": "code",
   "execution_count": 74,
   "metadata": {},
   "outputs": [],
   "source": [
    "class AddOne(ez.Unit):\n",
    "\n",
    "    INPUT_COUNT = ez.InputStream(CountMessage)\n",
    "    OUTPUT_PLUS_ONE = ez.OutputStream(CountMessage)\n",
    "\n",
    "    @ez.subscriber(INPUT_COUNT)\n",
    "    @ez.publisher(OUTPUT_PLUS_ONE)\n",
    "    async def on_message(self, message) -> AsyncGenerator:\n",
    "        yield (self.OUTPUT_PLUS_ONE, CountMessage(\n",
    "            value=message.value + 1\n",
    "        ))"
   ]
  },
  {
   "cell_type": "markdown",
   "metadata": {},
   "source": [
    "Finally, the last unit should print the value of any messages it receives."
   ]
  },
  {
   "cell_type": "code",
   "execution_count": 75,
   "metadata": {},
   "outputs": [],
   "source": [
    "class PrintValue(ez.Unit):\n",
    "\n",
    "    INPUT = ez.InputStream(CountMessage)\n",
    "\n",
    "    @ez.subscriber(INPUT)\n",
    "    async def on_message(self, message) -> None:\n",
    "        print(message.value)"
   ]
  },
  {
   "cell_type": "markdown",
   "metadata": {},
   "source": [
    "The last thing to do before we have a fully functioning `ezmsg` pipeline is to define any `Settings` that have been declared and to connect all of the units together. We do this using a `System`. The `configure()` and `network()` functions are special functions that define `System` behavior."
   ]
  },
  {
   "cell_type": "code",
   "execution_count": 76,
   "metadata": {},
   "outputs": [],
   "source": [
    "class CountSystem(ez.System):\n",
    "\n",
    "    # Define member units\n",
    "    COUNT = Count()\n",
    "    ADD_ONE = AddOne()\n",
    "    PRINT = PrintValue()\n",
    "\n",
    "    # Use the configure function to apply settings to member Units\n",
    "    def configure(self) -> None:\n",
    "        self.COUNT.apply_settings(\n",
    "            CountSettings(iterations=20)\n",
    "        )\n",
    "\n",
    "    # Use the network function to connect inputs and outputs of Units\n",
    "    def network(self) -> ez.NetworkDefinition:\n",
    "        return (\n",
    "            (self.COUNT.OUTPUT_COUNT, self.ADD_ONE.INPUT_COUNT),\n",
    "            (self.ADD_ONE.OUTPUT_PLUS_ONE, self.PRINT.INPUT)\n",
    "        )\n"
   ]
  },
  {
   "cell_type": "markdown",
   "metadata": {},
   "source": [
    "Finally, instantiate and run the system!"
   ]
  },
  {
   "cell_type": "code",
   "execution_count": 77,
   "metadata": {},
   "outputs": [],
   "source": [
    "system = CountSystem()\n",
    "ez.run_system(system)"
   ]
  },
  {
   "cell_type": "code",
   "execution_count": null,
   "metadata": {},
   "outputs": [],
   "source": []
  }
 ],
 "metadata": {
  "kernelspec": {
   "display_name": "Python 3.9.1 ('venv-windows')",
   "language": "python",
   "name": "python3"
  },
  "language_info": {
   "codemirror_mode": {
    "name": "ipython",
    "version": 3
   },
   "file_extension": ".py",
   "mimetype": "text/x-python",
   "name": "python",
   "nbconvert_exporter": "python",
   "pygments_lexer": "ipython3",
   "version": "3.9.1"
  },
  "orig_nbformat": 4,
  "vscode": {
   "interpreter": {
    "hash": "690414ffbc615712439c535bdf9363617957fa7fe5eeef5d495a4d9660928720"
   }
  }
 },
 "nbformat": 4,
 "nbformat_minor": 2
}
