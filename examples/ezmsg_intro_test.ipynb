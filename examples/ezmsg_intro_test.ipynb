{
  "cells": [
    {
      "cell_type": "markdown",
      "metadata": {
        "colab_type": "text",
        "id": "view-in-github"
      },
      "source": [
        "<a href=\"https://colab.research.google.com/github/hannahgooden/readthedocs-sandbox/blob/main/examples/ezmsg_intro_test.ipynb\" target=\"_parent\"><img src=\"https://colab.research.google.com/assets/colab-badge.svg\" alt=\"Open In Colab\"/></a>"
      ]
    },
    {
      "cell_type": "code",
      "execution_count": null,
      "metadata": {
        "colab": {
          "base_uri": "https://localhost:8080/"
        },
        "id": "YvKCXvn5gy_G",
        "outputId": "f7db89c8-37b3-49ca-fbd8-9c0c3eef8293"
      },
      "outputs": [
        {
          "name": "stdout",
          "output_type": "stream",
          "text": [
            "Looking in indexes: https://pypi.org/simple, https://us-python.pkg.dev/colab-wheels/public/simple/\n",
            "Collecting ezmsg\n",
            "  Downloading ezmsg-3.3.1-py3-none-any.whl (102 kB)\n",
            "\u001b[?25l     \u001b[90m━━━━━━━━━━━━━━━━━━━━━━━━━━━━━━━━━━━━━━━━\u001b[0m \u001b[32m0.0/102.1 kB\u001b[0m \u001b[31m?\u001b[0m eta \u001b[36m-:--:--\u001b[0m\r\u001b[2K     \u001b[90m━━━━━━━━━━━━━━━━━━━━━━━━━━━━━━━━━━━━━━━\u001b[0m \u001b[32m102.1/102.1 kB\u001b[0m \u001b[31m9.1 MB/s\u001b[0m eta \u001b[36m0:00:00\u001b[0m\n",
            "\u001b[?25hRequirement already satisfied: typing-extensions in /usr/local/lib/python3.9/dist-packages (from ezmsg) (4.5.0)\n",
            "Installing collected packages: ezmsg\n",
            "Successfully installed ezmsg-3.3.1\n"
          ]
        }
      ],
      "source": [
        "!pip install ezmsg\n",
        "import ezmsg.core as ez\n",
        "from dataclasses import dataclass\n",
        "from typing import AsyncGenerator, Tuple \n",
        "# Hannah!"
      ]
    },
    {
      "cell_type": "markdown",
      "metadata": {
        "id": "hOcRjo2Rgy_F"
      },
      "source": [
        "## Ezmsg Introduction\n",
        "\n",
        "If this is your first time using `ezmsg`, you're in the right place. This notebook will walk through the basics of creating a very simple `ezmsg` system.\n",
        "\n",
        "`ezmsg` is ideal for creating modular processing pipelines whose steps can be arranged as a directed acyclic graph. In this notebook, we will walk through a very simple graph which generates a count of numbers, adds 1 to each number, and prints to standard output.\n",
        "\n",
        "# ![simple-graph.png](data:image/png;base64,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)\n",
        "\n",
        "In `ezmsg` syntax, this graph would look like this:\n",
        "\n",
        "![ezmsg-graph.png](data:image/png;base64,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)\n",
        "\n",
        "We will write an `ezmsg` `Unit` for each discrete step of our pipeline, and connect them together with a `System`."
      ]
    },
    {
      "cell_type": "markdown",
      "metadata": {
        "id": "ISM1WK2bgy_H"
      },
      "source": [
        "Create a message type to pass between the `Units`. Python dataclasses are great for arbitrary messages, but you can use any type."
      ]
    },
    {
      "cell_type": "code",
      "execution_count": null,
      "metadata": {
        "id": "u8yl-C-Xgy_H"
      },
      "outputs": [],
      "source": [
        "@dataclass\n",
        "class CountMessage:\n",
        "    value: int"
      ]
    },
    {
      "cell_type": "markdown",
      "metadata": {
        "id": "kg2cBx4tgy_H"
      },
      "source": [
        "We also need a way to tell the `Unit` how many numbers to generate. All classes that derive from `ez.Settings` are frozen dataclasses!"
      ]
    },
    {
      "cell_type": "code",
      "execution_count": null,
      "metadata": {
        "id": "ylBDT7Sugy_I"
      },
      "outputs": [],
      "source": [
        "class CountSettings(ez.Settings):\n",
        "   iterations: int"
      ]
    },
    {
      "cell_type": "markdown",
      "metadata": {
        "id": "H4MI0Gr3gy_I"
      },
      "source": [
        "Next, create a `Unit` that will generate the count. Every `Unit` represents a node in the directed acyclic graph and should contain inputs and/or outputs and at least one function which subscribes to the inputs or publishes to the outputs. \n",
        "\n",
        "For `Count`, we create an `OutputStream` and a publishing function which will perform the number calculation and yield `CountMessages` to the `OutputStream`."
      ]
    },
    {
      "cell_type": "code",
      "execution_count": null,
      "metadata": {
        "id": "2eY5j_lYgy_I"
      },
      "outputs": [],
      "source": [
        "class Count(ez.Unit):\n",
        "\n",
        "    # Only provide a settings type, do not instantiate\n",
        "    # The Unit should receive settings from the System that uses it\n",
        "    # SETTINGS is a special/reserved class attribute for ez.Unit\n",
        "    SETTINGS: CountSettings\n",
        "\n",
        "    OUTPUT_COUNT = ez.OutputStream(CountMessage)\n",
        "\n",
        "    @ez.publisher(OUTPUT_COUNT)\n",
        "    async def count(self) -> AsyncGenerator:\n",
        "        count = 0\n",
        "        while count < self.SETTINGS.iterations:\n",
        "            yield (self.OUTPUT_COUNT, CountMessage(\n",
        "                value=count\n",
        "            ))\n",
        "            count = count + 1\n",
        "        \n",
        "        raise ez.NormalTermination"
      ]
    },
    {
      "cell_type": "markdown",
      "metadata": {
        "id": "PQywmTkugy_I"
      },
      "source": [
        "The next `Unit` in the chain should accept a `CountMessage` from the first `Unit`, add 1 to its value, and yield a new CountMessage. To do this, we create a new `Unit` which contains a function which both subscribes and publishes. We will connect this `Unit` to `Count` later on, when we create a `System`.\n",
        "\n",
        "The subscribing function will be called anytime the `Unit` receives a message to the `InputStream` that the function subscribes to. In this case, `INPUT_COUNT`."
      ]
    },
    {
      "cell_type": "code",
      "execution_count": null,
      "metadata": {
        "id": "gtqp0e5ugy_I"
      },
      "outputs": [],
      "source": [
        "class AddOne(ez.Unit):\n",
        "\n",
        "    INPUT_COUNT = ez.InputStream(CountMessage)\n",
        "    OUTPUT_PLUS_ONE = ez.OutputStream(CountMessage)\n",
        "\n",
        "    @ez.subscriber(INPUT_COUNT)\n",
        "    @ez.publisher(OUTPUT_PLUS_ONE)\n",
        "    async def on_message(self, message) -> AsyncGenerator:\n",
        "        yield (self.OUTPUT_PLUS_ONE, CountMessage(\n",
        "            value=message.value + 1\n",
        "        ))"
      ]
    },
    {
      "cell_type": "markdown",
      "metadata": {
        "id": "F_-NQlq2gy_J"
      },
      "source": [
        "Finally, the last unit should print the value of any messages it receives."
      ]
    },
    {
      "cell_type": "code",
      "execution_count": null,
      "metadata": {
        "id": "irOQyrxagy_J"
      },
      "outputs": [],
      "source": [
        "class PrintValue(ez.Unit):\n",
        "\n",
        "    INPUT = ez.InputStream(CountMessage)\n",
        "\n",
        "    @ez.subscriber(INPUT)\n",
        "    async def on_message(self, message) -> None:\n",
        "        print(message.value)"
      ]
    },
    {
      "cell_type": "markdown",
      "metadata": {
        "id": "oeHcd72Agy_J"
      },
      "source": [
        "The last thing to do before we have a fully functioning `ezmsg` pipeline is to define any `Settings` that have been declared and to connect all of the units together. We do this using a `Collection`. The `configure()` and `network()` functions are special functions that define `Collection` behavior."
      ]
    },
    {
      "cell_type": "code",
      "execution_count": null,
      "metadata": {
        "id": "bAt8zGWSgy_J"
      },
      "outputs": [],
      "source": [
        "class CountCollection(ez.Collection):\n",
        "\n",
        "    # Define member units\n",
        "    COUNT = Count()\n",
        "    ADD_ONE = AddOne()\n",
        "    PRINT = PrintValue()\n",
        "\n",
        "    # Use the configure function to apply settings to member Units\n",
        "    def configure(self) -> None:\n",
        "        self.COUNT.apply_settings(\n",
        "            CountSettings(iterations=20)\n",
        "        )\n",
        "\n",
        "    # Use the network function to connect inputs and outputs of Units\n",
        "    def network(self) -> ez.NetworkDefinition:\n",
        "        return (\n",
        "            (self.COUNT.OUTPUT_COUNT, self.ADD_ONE.INPUT_COUNT),\n",
        "            (self.ADD_ONE.OUTPUT_PLUS_ONE, self.PRINT.INPUT)\n",
        "        )\n"
      ]
    },
    {
      "cell_type": "markdown",
      "metadata": {
        "id": "VykSnm95gy_J"
      },
      "source": [
        "Finally, instantiate and run the system!"
      ]
    },
    {
      "cell_type": "code",
      "execution_count": null,
      "metadata": {
        "colab": {
          "base_uri": "https://localhost:8080/"
        },
        "id": "r80KKI7tgy_J",
        "outputId": "293d49f7-9208-4f85-af99-8666127f3cf1"
      },
      "outputs": [
        {
          "name": "stderr",
          "output_type": "stream",
          "text": [
            "2023-04-17 14:20:47.572 - pid: 148 - MainThread - WARNING - run: Passing a single Component without naming the Component is now Deprecated.\n",
            "WARNING:ezmsg:Passing a single Component without naming the Component is now Deprecated.\n",
            "2023-04-17 14:20:47.716 - pid: 148 - TaskThread - INFO - wrapped_task: Normal Termination raised in SYSTEM/COUNT:count\n",
            "INFO:ezmsg:Normal Termination raised in SYSTEM/COUNT:count\n",
            "2023-04-17 14:20:47.734 - pid: 148 - MainThread - INFO - run: All processes exited normally\n",
            "INFO:ezmsg:All processes exited normally\n"
          ]
        },
        {
          "name": "stdout",
          "output_type": "stream",
          "text": [
            "1\n",
            "2\n",
            "3\n",
            "4\n",
            "5\n",
            "6\n",
            "7\n",
            "8\n",
            "9\n",
            "10\n",
            "11\n",
            "12\n",
            "13\n",
            "14\n",
            "15\n",
            "16\n",
            "17\n",
            "18\n"
          ]
        }
      ],
      "source": [
        "collection = CountCollection()\n",
        "ez.run(collection)"
      ]
    },
    {
      "cell_type": "code",
      "execution_count": null,
      "metadata": {
        "id": "-JD2Bw6Jgy_K"
      },
      "outputs": [],
      "source": []
    }
  ],
  "metadata": {
    "colab": {
      "include_colab_link": true,
      "provenance": []
    },
    "kernelspec": {
      "display_name": "ezmsg",
      "language": "python",
      "name": "python3"
    },
    "language_info": {
      "codemirror_mode": {
        "name": "ipython",
        "version": 3
      },
      "file_extension": ".py",
      "mimetype": "text/x-python",
      "name": "python",
      "nbconvert_exporter": "python",
      "pygments_lexer": "ipython3",
      "version": "3.10.0"
    },
    "vscode": {
      "interpreter": {
        "hash": "af71ee7421d80820fd8bf1a356a1254e2ce85b1880b1cbdd680e0ed2aea5cf57"
      }
    }
  },
  "nbformat": 4,
  "nbformat_minor": 0
}
